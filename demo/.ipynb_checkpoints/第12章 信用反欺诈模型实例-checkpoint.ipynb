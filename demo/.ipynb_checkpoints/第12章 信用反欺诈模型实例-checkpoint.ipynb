{
 "cells": [
  {
   "cell_type": "code",
   "execution_count": 1,
   "metadata": {},
   "outputs": [],
   "source": [
    "import pandas as pd\n",
    "import numpy as np\n",
    "import matplotlib.pyplot as plt\n",
    "\n",
    "from sklearn.cluster import KMeans\n",
    "from sklearn.preprocessing import StandardScaler, normalize\n",
    "from sklearn.decomposition import PCA\n"
   ]
  },
  {
   "cell_type": "markdown",
   "metadata": {},
   "source": [
    "# 13.1场景介绍"
   ]
  },
  {
   "cell_type": "markdown",
   "metadata": {},
   "source": [
    "# 13.2数据准备"
   ]
  },
  {
   "cell_type": "code",
   "execution_count": 2,
   "metadata": {},
   "outputs": [],
   "source": [
    "data=pd.read_csv(r\"./dataset/creditcardfraud.csv\")#默认第一行为行标题"
   ]
  },
  {
   "cell_type": "code",
   "execution_count": 3,
   "metadata": {},
   "outputs": [
    {
     "data": {
      "text/plain": [
       "(10000, 31)"
      ]
     },
     "execution_count": 3,
     "metadata": {},
     "output_type": "execute_result"
    }
   ],
   "source": [
    "data.shape"
   ]
  },
  {
   "cell_type": "code",
   "execution_count": 4,
   "metadata": {},
   "outputs": [
    {
     "data": {
      "text/plain": [
       "0    9962\n",
       "1      38\n",
       "Name: Class, dtype: int64"
      ]
     },
     "execution_count": 4,
     "metadata": {},
     "output_type": "execute_result"
    }
   ],
   "source": [
    "data[\"Class\"].value_counts()"
   ]
  },
  {
   "cell_type": "code",
   "execution_count": 5,
   "metadata": {},
   "outputs": [
    {
     "data": {
      "text/plain": [
       "(1000, 31)"
      ]
     },
     "execution_count": 5,
     "metadata": {},
     "output_type": "execute_result"
    }
   ],
   "source": [
    "# 设定随机数种子\n",
    "np.random.seed(seed=2020)\n",
    "# 读取数据\n",
    "data=pd.read_csv(r\"./dataset/creditcardfraud.csv\")\n",
    "# 采样\n",
    "sample=data.sample(frac=0.1)\n",
    "sample.shape"
   ]
  },
  {
   "cell_type": "code",
   "execution_count": 6,
   "metadata": {},
   "outputs": [
    {
     "data": {
      "text/html": [
       "<div>\n",
       "<style scoped>\n",
       "    .dataframe tbody tr th:only-of-type {\n",
       "        vertical-align: middle;\n",
       "    }\n",
       "\n",
       "    .dataframe tbody tr th {\n",
       "        vertical-align: top;\n",
       "    }\n",
       "\n",
       "    .dataframe thead th {\n",
       "        text-align: right;\n",
       "    }\n",
       "</style>\n",
       "<table border=\"1\" class=\"dataframe\">\n",
       "  <thead>\n",
       "    <tr style=\"text-align: right;\">\n",
       "      <th></th>\n",
       "      <th>Time</th>\n",
       "      <th>V1</th>\n",
       "      <th>V2</th>\n",
       "      <th>V3</th>\n",
       "      <th>V4</th>\n",
       "      <th>V5</th>\n",
       "      <th>V6</th>\n",
       "      <th>V7</th>\n",
       "      <th>V8</th>\n",
       "      <th>V9</th>\n",
       "      <th>...</th>\n",
       "      <th>V21</th>\n",
       "      <th>V22</th>\n",
       "      <th>V23</th>\n",
       "      <th>V24</th>\n",
       "      <th>V25</th>\n",
       "      <th>V26</th>\n",
       "      <th>V27</th>\n",
       "      <th>V28</th>\n",
       "      <th>Amount</th>\n",
       "      <th>Class</th>\n",
       "    </tr>\n",
       "  </thead>\n",
       "  <tbody>\n",
       "    <tr>\n",
       "      <th>4436</th>\n",
       "      <td>3769</td>\n",
       "      <td>1.404058</td>\n",
       "      <td>-0.679361</td>\n",
       "      <td>-0.913528</td>\n",
       "      <td>-1.617473</td>\n",
       "      <td>1.459654</td>\n",
       "      <td>3.274243</td>\n",
       "      <td>-1.172240</td>\n",
       "      <td>0.710719</td>\n",
       "      <td>0.360273</td>\n",
       "      <td>...</td>\n",
       "      <td>-0.278960</td>\n",
       "      <td>-0.897519</td>\n",
       "      <td>0.082480</td>\n",
       "      <td>0.919949</td>\n",
       "      <td>0.357544</td>\n",
       "      <td>-0.508232</td>\n",
       "      <td>-0.019665</td>\n",
       "      <td>0.015196</td>\n",
       "      <td>40.56</td>\n",
       "      <td>0</td>\n",
       "    </tr>\n",
       "    <tr>\n",
       "      <th>3829</th>\n",
       "      <td>3360</td>\n",
       "      <td>-1.077377</td>\n",
       "      <td>-1.461145</td>\n",
       "      <td>0.686048</td>\n",
       "      <td>-2.289464</td>\n",
       "      <td>1.001577</td>\n",
       "      <td>-0.391785</td>\n",
       "      <td>-1.157680</td>\n",
       "      <td>0.317102</td>\n",
       "      <td>-2.370499</td>\n",
       "      <td>...</td>\n",
       "      <td>0.139591</td>\n",
       "      <td>0.389448</td>\n",
       "      <td>-0.029440</td>\n",
       "      <td>-1.290284</td>\n",
       "      <td>-0.081583</td>\n",
       "      <td>-0.139927</td>\n",
       "      <td>0.125373</td>\n",
       "      <td>0.173440</td>\n",
       "      <td>39.20</td>\n",
       "      <td>0</td>\n",
       "    </tr>\n",
       "    <tr>\n",
       "      <th>2434</th>\n",
       "      <td>2002</td>\n",
       "      <td>-1.586378</td>\n",
       "      <td>1.574495</td>\n",
       "      <td>0.857851</td>\n",
       "      <td>-0.584066</td>\n",
       "      <td>-0.015041</td>\n",
       "      <td>-0.333121</td>\n",
       "      <td>0.397237</td>\n",
       "      <td>-2.556866</td>\n",
       "      <td>-0.218417</td>\n",
       "      <td>...</td>\n",
       "      <td>2.374380</td>\n",
       "      <td>-0.554125</td>\n",
       "      <td>0.221798</td>\n",
       "      <td>0.369146</td>\n",
       "      <td>-0.111907</td>\n",
       "      <td>0.162693</td>\n",
       "      <td>-0.052176</td>\n",
       "      <td>0.116473</td>\n",
       "      <td>49.90</td>\n",
       "      <td>0</td>\n",
       "    </tr>\n",
       "  </tbody>\n",
       "</table>\n",
       "<p>3 rows × 31 columns</p>\n",
       "</div>"
      ],
      "text/plain": [
       "      Time        V1        V2        V3        V4        V5        V6  \\\n",
       "4436  3769  1.404058 -0.679361 -0.913528 -1.617473  1.459654  3.274243   \n",
       "3829  3360 -1.077377 -1.461145  0.686048 -2.289464  1.001577 -0.391785   \n",
       "2434  2002 -1.586378  1.574495  0.857851 -0.584066 -0.015041 -0.333121   \n",
       "\n",
       "            V7        V8        V9  ...       V21       V22       V23  \\\n",
       "4436 -1.172240  0.710719  0.360273  ... -0.278960 -0.897519  0.082480   \n",
       "3829 -1.157680  0.317102 -2.370499  ...  0.139591  0.389448 -0.029440   \n",
       "2434  0.397237 -2.556866 -0.218417  ...  2.374380 -0.554125  0.221798   \n",
       "\n",
       "           V24       V25       V26       V27       V28  Amount  Class  \n",
       "4436  0.919949  0.357544 -0.508232 -0.019665  0.015196   40.56      0  \n",
       "3829 -1.290284 -0.081583 -0.139927  0.125373  0.173440   39.20      0  \n",
       "2434  0.369146 -0.111907  0.162693 -0.052176  0.116473   49.90      0  \n",
       "\n",
       "[3 rows x 31 columns]"
      ]
     },
     "execution_count": 6,
     "metadata": {},
     "output_type": "execute_result"
    }
   ],
   "source": [
    "sample.head(3)"
   ]
  },
  {
   "cell_type": "code",
   "execution_count": 7,
   "metadata": {},
   "outputs": [
    {
     "data": {
      "text/plain": [
       "0    998\n",
       "1      2\n",
       "Name: Class, dtype: int64"
      ]
     },
     "execution_count": 7,
     "metadata": {},
     "output_type": "execute_result"
    }
   ],
   "source": [
    "sample['Class'].value_counts()"
   ]
  },
  {
   "cell_type": "code",
   "execution_count": 8,
   "metadata": {
    "scrolled": true
   },
   "outputs": [
    {
     "data": {
      "text/html": [
       "<div>\n",
       "<style scoped>\n",
       "    .dataframe tbody tr th:only-of-type {\n",
       "        vertical-align: middle;\n",
       "    }\n",
       "\n",
       "    .dataframe tbody tr th {\n",
       "        vertical-align: top;\n",
       "    }\n",
       "\n",
       "    .dataframe thead th {\n",
       "        text-align: right;\n",
       "    }\n",
       "</style>\n",
       "<table border=\"1\" class=\"dataframe\">\n",
       "  <thead>\n",
       "    <tr style=\"text-align: right;\">\n",
       "      <th></th>\n",
       "      <th>Time</th>\n",
       "      <th>Amount</th>\n",
       "      <th>V1</th>\n",
       "      <th>V2</th>\n",
       "      <th>V3</th>\n",
       "    </tr>\n",
       "  </thead>\n",
       "  <tbody>\n",
       "    <tr>\n",
       "      <th>count</th>\n",
       "      <td>1000.000000</td>\n",
       "      <td>1000.000000</td>\n",
       "      <td>1000.000000</td>\n",
       "      <td>1000.000000</td>\n",
       "      <td>1000.000000</td>\n",
       "    </tr>\n",
       "    <tr>\n",
       "      <th>mean</th>\n",
       "      <td>5946.485000</td>\n",
       "      <td>65.028880</td>\n",
       "      <td>-0.269591</td>\n",
       "      <td>0.295615</td>\n",
       "      <td>0.915847</td>\n",
       "    </tr>\n",
       "    <tr>\n",
       "      <th>std</th>\n",
       "      <td>4438.164406</td>\n",
       "      <td>166.019035</td>\n",
       "      <td>1.498533</td>\n",
       "      <td>1.164567</td>\n",
       "      <td>1.016154</td>\n",
       "    </tr>\n",
       "    <tr>\n",
       "      <th>min</th>\n",
       "      <td>0.000000</td>\n",
       "      <td>0.000000</td>\n",
       "      <td>-9.016562</td>\n",
       "      <td>-6.694504</td>\n",
       "      <td>-5.615159</td>\n",
       "    </tr>\n",
       "    <tr>\n",
       "      <th>25%</th>\n",
       "      <td>2161.000000</td>\n",
       "      <td>5.900000</td>\n",
       "      <td>-1.043093</td>\n",
       "      <td>-0.177348</td>\n",
       "      <td>0.386640</td>\n",
       "    </tr>\n",
       "    <tr>\n",
       "      <th>50%</th>\n",
       "      <td>4479.000000</td>\n",
       "      <td>16.435000</td>\n",
       "      <td>-0.397198</td>\n",
       "      <td>0.307230</td>\n",
       "      <td>0.903630</td>\n",
       "    </tr>\n",
       "    <tr>\n",
       "      <th>75%</th>\n",
       "      <td>10119.500000</td>\n",
       "      <td>53.362500</td>\n",
       "      <td>1.150635</td>\n",
       "      <td>0.897671</td>\n",
       "      <td>1.607042</td>\n",
       "    </tr>\n",
       "    <tr>\n",
       "      <th>max</th>\n",
       "      <td>14989.000000</td>\n",
       "      <td>2452.030000</td>\n",
       "      <td>1.543634</td>\n",
       "      <td>5.571010</td>\n",
       "      <td>3.627603</td>\n",
       "    </tr>\n",
       "  </tbody>\n",
       "</table>\n",
       "</div>"
      ],
      "text/plain": [
       "               Time       Amount           V1           V2           V3\n",
       "count   1000.000000  1000.000000  1000.000000  1000.000000  1000.000000\n",
       "mean    5946.485000    65.028880    -0.269591     0.295615     0.915847\n",
       "std     4438.164406   166.019035     1.498533     1.164567     1.016154\n",
       "min        0.000000     0.000000    -9.016562    -6.694504    -5.615159\n",
       "25%     2161.000000     5.900000    -1.043093    -0.177348     0.386640\n",
       "50%     4479.000000    16.435000    -0.397198     0.307230     0.903630\n",
       "75%    10119.500000    53.362500     1.150635     0.897671     1.607042\n",
       "max    14989.000000  2452.030000     1.543634     5.571010     3.627603"
      ]
     },
     "execution_count": 8,
     "metadata": {},
     "output_type": "execute_result"
    }
   ],
   "source": [
    "sample[['Time','Amount','V1','V2','V3']].describe()"
   ]
  },
  {
   "cell_type": "code",
   "execution_count": 9,
   "metadata": {},
   "outputs": [
    {
     "data": {
      "text/plain": [
       "0.0"
      ]
     },
     "execution_count": 9,
     "metadata": {},
     "output_type": "execute_result"
    }
   ],
   "source": [
    "import math\n",
    "\n",
    "math.log(1)"
   ]
  },
  {
   "cell_type": "code",
   "execution_count": 10,
   "metadata": {},
   "outputs": [],
   "source": [
    "# 特征转换\n",
    "sample.Time = sample.Time.map(lambda x: divmod(x, 3600)[0])\n",
    "sample.Amount = sample.Amount.map(lambda x: math.log(x+1))"
   ]
  },
  {
   "cell_type": "code",
   "execution_count": 11,
   "metadata": {},
   "outputs": [
    {
     "data": {
      "text/html": [
       "<div>\n",
       "<style scoped>\n",
       "    .dataframe tbody tr th:only-of-type {\n",
       "        vertical-align: middle;\n",
       "    }\n",
       "\n",
       "    .dataframe tbody tr th {\n",
       "        vertical-align: top;\n",
       "    }\n",
       "\n",
       "    .dataframe thead th {\n",
       "        text-align: right;\n",
       "    }\n",
       "</style>\n",
       "<table border=\"1\" class=\"dataframe\">\n",
       "  <thead>\n",
       "    <tr style=\"text-align: right;\">\n",
       "      <th></th>\n",
       "      <th>Time</th>\n",
       "      <th>Amount</th>\n",
       "      <th>V1</th>\n",
       "      <th>V2</th>\n",
       "      <th>V3</th>\n",
       "    </tr>\n",
       "  </thead>\n",
       "  <tbody>\n",
       "    <tr>\n",
       "      <th>count</th>\n",
       "      <td>1000.000000</td>\n",
       "      <td>1000.000000</td>\n",
       "      <td>1000.000000</td>\n",
       "      <td>1000.000000</td>\n",
       "      <td>1000.000000</td>\n",
       "    </tr>\n",
       "    <tr>\n",
       "      <th>mean</th>\n",
       "      <td>1.245000</td>\n",
       "      <td>2.978630</td>\n",
       "      <td>-0.269591</td>\n",
       "      <td>0.295615</td>\n",
       "      <td>0.915847</td>\n",
       "    </tr>\n",
       "    <tr>\n",
       "      <th>std</th>\n",
       "      <td>1.259588</td>\n",
       "      <td>1.540949</td>\n",
       "      <td>1.498533</td>\n",
       "      <td>1.164567</td>\n",
       "      <td>1.016154</td>\n",
       "    </tr>\n",
       "    <tr>\n",
       "      <th>min</th>\n",
       "      <td>0.000000</td>\n",
       "      <td>0.000000</td>\n",
       "      <td>-9.016562</td>\n",
       "      <td>-6.694504</td>\n",
       "      <td>-5.615159</td>\n",
       "    </tr>\n",
       "    <tr>\n",
       "      <th>25%</th>\n",
       "      <td>0.000000</td>\n",
       "      <td>1.931521</td>\n",
       "      <td>-1.043093</td>\n",
       "      <td>-0.177348</td>\n",
       "      <td>0.386640</td>\n",
       "    </tr>\n",
       "    <tr>\n",
       "      <th>50%</th>\n",
       "      <td>1.000000</td>\n",
       "      <td>2.858479</td>\n",
       "      <td>-0.397198</td>\n",
       "      <td>0.307230</td>\n",
       "      <td>0.903630</td>\n",
       "    </tr>\n",
       "    <tr>\n",
       "      <th>75%</th>\n",
       "      <td>2.000000</td>\n",
       "      <td>3.995668</td>\n",
       "      <td>1.150635</td>\n",
       "      <td>0.897671</td>\n",
       "      <td>1.607042</td>\n",
       "    </tr>\n",
       "    <tr>\n",
       "      <th>max</th>\n",
       "      <td>4.000000</td>\n",
       "      <td>7.805079</td>\n",
       "      <td>1.543634</td>\n",
       "      <td>5.571010</td>\n",
       "      <td>3.627603</td>\n",
       "    </tr>\n",
       "  </tbody>\n",
       "</table>\n",
       "</div>"
      ],
      "text/plain": [
       "              Time       Amount           V1           V2           V3\n",
       "count  1000.000000  1000.000000  1000.000000  1000.000000  1000.000000\n",
       "mean      1.245000     2.978630    -0.269591     0.295615     0.915847\n",
       "std       1.259588     1.540949     1.498533     1.164567     1.016154\n",
       "min       0.000000     0.000000    -9.016562    -6.694504    -5.615159\n",
       "25%       0.000000     1.931521    -1.043093    -0.177348     0.386640\n",
       "50%       1.000000     2.858479    -0.397198     0.307230     0.903630\n",
       "75%       2.000000     3.995668     1.150635     0.897671     1.607042\n",
       "max       4.000000     7.805079     1.543634     5.571010     3.627603"
      ]
     },
     "execution_count": 11,
     "metadata": {},
     "output_type": "execute_result"
    }
   ],
   "source": [
    "sample[['Time','Amount','V1','V2','V3']].describe()"
   ]
  },
  {
   "cell_type": "markdown",
   "metadata": {},
   "source": [
    "数据正规化与标准化\n",
    "\n",
    "在整个知识发现的过程中，数据挖掘之前，数据预处理起着至关重要的作用。\n",
    "其中首要步骤就是数据的正规化处理。\n",
    "在处理不同单元和尺度参数时，这一步就显得非常重要。\n",
    "例如，一些数据挖掘技术适用欧氏距离，因此，所有的参数应该要用相同的单位才能进行比较。\n",
    "\n",
    "重新缩放数据通常有两种方法：正规化和标准化。\n",
    "正规化，即将所有的变量都归一化到[0,1]的尺度范围内。\n",
    "\n",
    "标准化，是在原数据的分布统计基础上转化为具有零均值和单位方差。\n",
    "\n",
    "这两种方法各有弊端。\n",
    "如果你的数据集是离散的，正规化数据将会使那些“正常”的数据间形成非常小的间隔。\n",
    "一般来说，大多数据集都是离散的。当使用标准化后的数据时，你假设你的数据是由高斯法（具有一定的均值和标准差）产生的。\n",
    "但这在实际情况中可能不会发生。\n",
    "\n",
    "对于正规化，特定场景下最大值最小值是变化的，另外，最大值与最小值非常容易受异常点影响，所以这种方法鲁棒性（产品稳定性）较差，只适合传统精确小数据场景。所以一般都不使用归一化\n",
    "\n",
    "而标准化在已有样本足够多的情况下比较稳定，适合现代嘈杂大数据场景。\n"
   ]
  },
  {
   "cell_type": "code",
   "execution_count": 12,
   "metadata": {},
   "outputs": [],
   "source": [
    "from sklearn.preprocessing import Normalizer\n",
    "# 解释变量\n",
    "x_cols=sample.columns.tolist()\n",
    "x_cols.remove('Class')\n",
    "# 正则化\n",
    "sample[x_cols]  = Normalizer().fit_transform(sample[x_cols])"
   ]
  },
  {
   "cell_type": "code",
   "execution_count": 13,
   "metadata": {},
   "outputs": [],
   "source": [
    "# from sklearn.preprocessing import StandardScaler\n",
    "# # 解释变量\n",
    "# x_cols=sample.columns.tolist()\n",
    "# x_cols.remove('Class')\n",
    "# # Z-score标准化\n",
    "# # sample[x_cols] = StandardScaler().fit_transform(sample[x_cols])"
   ]
  },
  {
   "cell_type": "code",
   "execution_count": 14,
   "metadata": {},
   "outputs": [
    {
     "data": {
      "text/html": [
       "<div>\n",
       "<style scoped>\n",
       "    .dataframe tbody tr th:only-of-type {\n",
       "        vertical-align: middle;\n",
       "    }\n",
       "\n",
       "    .dataframe tbody tr th {\n",
       "        vertical-align: top;\n",
       "    }\n",
       "\n",
       "    .dataframe thead th {\n",
       "        text-align: right;\n",
       "    }\n",
       "</style>\n",
       "<table border=\"1\" class=\"dataframe\">\n",
       "  <thead>\n",
       "    <tr style=\"text-align: right;\">\n",
       "      <th></th>\n",
       "      <th>Time</th>\n",
       "      <th>Amount</th>\n",
       "      <th>V1</th>\n",
       "      <th>V2</th>\n",
       "      <th>V3</th>\n",
       "    </tr>\n",
       "  </thead>\n",
       "  <tbody>\n",
       "    <tr>\n",
       "      <th>count</th>\n",
       "      <td>1000.000000</td>\n",
       "      <td>1000.000000</td>\n",
       "      <td>1000.000000</td>\n",
       "      <td>1000.000000</td>\n",
       "      <td>1000.000000</td>\n",
       "    </tr>\n",
       "    <tr>\n",
       "      <th>mean</th>\n",
       "      <td>0.180422</td>\n",
       "      <td>0.463926</td>\n",
       "      <td>-0.019512</td>\n",
       "      <td>0.057439</td>\n",
       "      <td>0.156363</td>\n",
       "    </tr>\n",
       "    <tr>\n",
       "      <th>std</th>\n",
       "      <td>0.184501</td>\n",
       "      <td>0.203305</td>\n",
       "      <td>0.215557</td>\n",
       "      <td>0.150917</td>\n",
       "      <td>0.153625</td>\n",
       "    </tr>\n",
       "    <tr>\n",
       "      <th>min</th>\n",
       "      <td>0.000000</td>\n",
       "      <td>0.000000</td>\n",
       "      <td>-0.519402</td>\n",
       "      <td>-0.529120</td>\n",
       "      <td>-0.320339</td>\n",
       "    </tr>\n",
       "    <tr>\n",
       "      <th>25%</th>\n",
       "      <td>0.000000</td>\n",
       "      <td>0.330633</td>\n",
       "      <td>-0.170482</td>\n",
       "      <td>-0.029312</td>\n",
       "      <td>0.068668</td>\n",
       "    </tr>\n",
       "    <tr>\n",
       "      <th>50%</th>\n",
       "      <td>0.142615</td>\n",
       "      <td>0.480343</td>\n",
       "      <td>-0.070819</td>\n",
       "      <td>0.055070</td>\n",
       "      <td>0.155235</td>\n",
       "    </tr>\n",
       "    <tr>\n",
       "      <th>75%</th>\n",
       "      <td>0.334885</td>\n",
       "      <td>0.613303</td>\n",
       "      <td>0.185692</td>\n",
       "      <td>0.159373</td>\n",
       "      <td>0.259399</td>\n",
       "    </tr>\n",
       "    <tr>\n",
       "      <th>max</th>\n",
       "      <td>0.651369</td>\n",
       "      <td>0.886759</td>\n",
       "      <td>0.481440</td>\n",
       "      <td>0.561781</td>\n",
       "      <td>0.652152</td>\n",
       "    </tr>\n",
       "  </tbody>\n",
       "</table>\n",
       "</div>"
      ],
      "text/plain": [
       "              Time       Amount           V1           V2           V3\n",
       "count  1000.000000  1000.000000  1000.000000  1000.000000  1000.000000\n",
       "mean      0.180422     0.463926    -0.019512     0.057439     0.156363\n",
       "std       0.184501     0.203305     0.215557     0.150917     0.153625\n",
       "min       0.000000     0.000000    -0.519402    -0.529120    -0.320339\n",
       "25%       0.000000     0.330633    -0.170482    -0.029312     0.068668\n",
       "50%       0.142615     0.480343    -0.070819     0.055070     0.155235\n",
       "75%       0.334885     0.613303     0.185692     0.159373     0.259399\n",
       "max       0.651369     0.886759     0.481440     0.561781     0.652152"
      ]
     },
     "execution_count": 14,
     "metadata": {},
     "output_type": "execute_result"
    }
   ],
   "source": [
    "sample[['Time','Amount','V1','V2','V3']].describe()"
   ]
  },
  {
   "cell_type": "markdown",
   "metadata": {},
   "source": [
    " # 13.3建模"
   ]
  },
  {
   "cell_type": "markdown",
   "metadata": {},
   "source": [
    "Elbow Criterion\n",
    "\n",
    "对于k-means的k，可通过Elbow Criterion确定k的大小：\n",
    "在下面的误差平方和图中，拐点（bend or elbow）的位置对应的x轴即k-means聚类给出的合适的类的个数。\n",
    "\n",
    "由下图可以看出，该方法给出合理的类别个数是3个或4个。"
   ]
  },
  {
   "cell_type": "code",
   "execution_count": 15,
   "metadata": {},
   "outputs": [
    {
     "data": {
      "image/png": "[encoded data removed]",
      "text/plain": [
       "<Figure size 432x288 with 1 Axes>"
      ]
     },
     "metadata": {
      "needs_background": "light"
     },
     "output_type": "display_data"
    }
   ],
   "source": [
    "# 通过Elbow Criterion确定K\n",
    "sse = {}\n",
    "for k in range(1, 10):\n",
    "    kmeans = KMeans(n_clusters=k, max_iter=1000).fit(sample[x_cols])\n",
    "    sse[k] = kmeans.inertia_\n",
    "# 画出组内的平方和和提取的聚类个数的对比\n",
    "plt.figure()\n",
    "plt.plot(list(sse.keys()), list(sse.values()))\n",
    "plt.xlabel(\"Number of cluster\")\n",
    "plt.ylabel(\"SSE\")\n",
    "plt.title('Elbow Criterion')\n",
    "plt.show()"
   ]
  },
  {
   "cell_type": "code",
   "execution_count": 16,
   "metadata": {},
   "outputs": [
    {
     "data": {
      "image/png": "[encoded data removed]",
      "text/plain": [
       "<Figure size 432x288 with 1 Axes>"
      ]
     },
     "metadata": {
      "needs_background": "light"
     },
     "output_type": "display_data"
    }
   ],
   "source": [
    "# 使用轮廓系数确定K\n",
    "from sklearn.metrics import silhouette_score\n",
    "silhouette_scores = [] \n",
    "for n_cluster in range(2, 10):\n",
    "    silhouette_scores.append( \n",
    "        silhouette_score(sample[x_cols], KMeans(n_clusters = n_cluster).fit_predict(sample[x_cols]))) \n",
    "# 画出结果，使用silhouette_score包中指标推荐的聚类个数\n",
    "k =list(range(2,10))\n",
    "plt.bar(k, silhouette_scores) \n",
    "plt.xlabel('Number of clusters', fontsize = 10) \n",
    "plt.ylabel('Silhouette Score', fontsize = 10) \n",
    "plt.title('Silhouette Coefficient')\n",
    "plt.show() "
   ]
  },
  {
   "cell_type": "code",
   "execution_count": null,
   "metadata": {},
   "outputs": [],
   "source": []
  },
  {
   "cell_type": "code",
   "execution_count": 17,
   "metadata": {},
   "outputs": [
    {
     "data": {
      "image/png": "[encoded data removed]",
      "text/plain": [
       "<Figure size 432x288 with 1 Axes>"
      ]
     },
     "metadata": {
      "needs_background": "light"
     },
     "output_type": "display_data"
    }
   ],
   "source": [
    "from sklearn.cluster import KMeans\n",
    "# K-means训练\n",
    "kmeans = KMeans(n_clusters=2)\n",
    "kmeans.fit(sample[x_cols])\n",
    "\n",
    "# 聚类效果可视化\n",
    "plt.scatter(sample['Time'], sample['Amount'],  \n",
    "           c = KMeans(n_clusters = 2).fit_predict(sample[x_cols]), cmap =plt.cm.winter) \n",
    "plt.show() "
   ]
  },
  {
   "cell_type": "code",
   "execution_count": 18,
   "metadata": {},
   "outputs": [],
   "source": [
    "# # Step size of the mesh. Decrease to increase the quality of the VQ.\n",
    "# h = .01     # point in the mesh [x_min, x_max]x[y_min, y_max].\n",
    "\n",
    "# # Plot the decision boundary. For that, we will assign a color to each\n",
    "# x_min, x_max = sample['Time'].min() - 1, sample['Time'].max() + 1\n",
    "# y_min, y_max = sample['Amount'].min() - 1, sample['Amount'].max() + 1\n",
    "# xx, yy = np.meshgrid(np.arange(x_min, x_max, h), np.arange(y_min, y_max, h))\n",
    "# # Obtain labels for each point in mesh. Use last trained model.\n",
    "\n",
    "# # https://www.quora.com/Can-anybody-elaborate-the-use-of-c_-in-numpy\n",
    "# # https://www.geeksforgeeks.org/differences-flatten-ravel-numpy/\n",
    "# # Z = kmeans.predict(np.c_[xx.ravel(), yy.ravel()])\n",
    "\n",
    "# Z = kmeans.predict(np.array(list(zip(xx.ravel(), yy.ravel()))))\n",
    "\n",
    "# # Put the result into a color plot\n",
    "# Z = Z.reshape(xx.shape)   \n",
    "# plt.figure(1)\n",
    "# # https://stackoverflow.com/questions/16661790/difference-between-plt-close-and-plt-clf\n",
    "# plt.clf()\n",
    "# plt.imshow(Z, interpolation='nearest',\n",
    "#            extent=(xx.min(), xx.max(), yy.min(), yy.max()),\n",
    "#            cmap=plt.cm.winter,\n",
    "#            aspect='auto', origin='lower')\n",
    "\n",
    "# plt.plot(sample['Time'], sample['Amount'], 'k.', markersize=2)\n",
    "# # Plot the centroids as a white X\n",
    "# centroids = kmeans.cluster_centers_\n",
    "# plt.scatter(centroids[:, 0], centroids[:, 1],\n",
    "#             marker='o', s=10, linewidths=3,\n",
    "#             color='w', zorder=10)\n",
    "# plt.title('K-means clustering on the credit card fraud dataset (PCA-reduced data)\\n'\n",
    "#           'Centroids are marked with white circle')\n",
    "# plt.xlim(x_min, x_max)\n",
    "# plt.ylim(y_min, y_max)\n",
    "# plt.show()\n"
   ]
  },
  {
   "cell_type": "markdown",
   "metadata": {},
   "source": [
    "```\n",
    "聚类算法是机器学习算法中的一种无监督算法。那么在生活中我们大多数做项目的话其实数据集都是为标定的。我看到许多人有写到通过有label的样本，计算它的混淆矩阵。这不乏是一种办法，那么今天说的方法其实是一种内部方法，就是说通过聚类后的结果label来计算的一种评价指标。\n",
    "内部有效性指标呢设计的时候从三个方面来看聚类的有效性：\n",
    "\n",
    "度量各个聚类的分离程度，理论上，类分离程度越大，结果越好。\n",
    "度量每个类内的内在紧致性，紧致性越大，聚类效果越好。\n",
    "度量各个类表示的复杂度，在可行的类表示中选择简单的。\n",
    "\n",
    "轮廓系数（Silhouette Coefficient），是聚类效果好坏的一种评价方式。     \n",
    "\n",
    "轮廓系数的值是介于 [-1,1] ，越趋近于1代表内聚度和分离度都相对较优。\n",
    "```"
   ]
  },
  {
   "cell_type": "markdown",
   "metadata": {},
   "source": [
    "#  13.4验证"
   ]
  },
  {
   "cell_type": "code",
   "execution_count": 19,
   "metadata": {},
   "outputs": [
    {
     "name": "stdout",
     "output_type": "stream",
     "text": [
      "实际标签分布： Counter({0: 998, 1: 2})\n",
      "预测标签分布： Counter({0: 585, 1: 415})\n"
     ]
    }
   ],
   "source": [
    "from sklearn.metrics import classification_report\n",
    "Y_true=sample['Class'].values\n",
    "Y_predict= kmeans.fit_predict(sample[x_cols])\n",
    "# 统计标签\n",
    "from collections import Counter\n",
    "print('实际标签分布：',Counter(Y_true))\n",
    "print('预测标签分布：',Counter(Y_predict))"
   ]
  },
  {
   "cell_type": "code",
   "execution_count": 20,
   "metadata": {},
   "outputs": [],
   "source": [
    "Y_predict=np.where((Y_predict==0)|(Y_predict==1), Y_predict^1, Y_predict)"
   ]
  },
  {
   "cell_type": "code",
   "execution_count": 21,
   "metadata": {},
   "outputs": [
    {
     "name": "stdout",
     "output_type": "stream",
     "text": [
      "分类报告\n",
      "               precision    recall  f1-score   support\n",
      "\n",
      "           0       1.00      0.41      0.58       998\n",
      "           1       0.00      0.00      0.00         2\n",
      "\n",
      "    accuracy                           0.41      1000\n",
      "   macro avg       0.50      0.21      0.29      1000\n",
      "weighted avg       0.99      0.41      0.58      1000\n",
      "\n",
      "混淆矩阵\n",
      " [[413 585]\n",
      " [  2   0]]\n"
     ]
    }
   ],
   "source": [
    "# 打印分类报告和混淆矩阵\n",
    "from sklearn.metrics import classification_report,confusion_matrix\n",
    "print('分类报告\\n',classification_report(Y_true, Y_predict))\n",
    "print('混淆矩阵\\n',confusion_matrix(Y_true, Y_predict))"
   ]
  },
  {
   "cell_type": "code",
   "execution_count": 22,
   "metadata": {},
   "outputs": [
    {
     "data": {
      "text/plain": [
       "array([[413, 585],\n",
       "       [  2,   0]])"
      ]
     },
     "execution_count": 22,
     "metadata": {},
     "output_type": "execute_result"
    }
   ],
   "source": [
    "from sklearn.metrics import confusion_matrix\n",
    "confusion_matrix(Y_true, Y_predict)\n"
   ]
  }
 ],
 "metadata": {
  "kernelspec": {
   "display_name": "Python 3",
   "language": "python",
   "name": "python3"
  },
  "language_info": {
   "codemirror_mode": {
    "name": "ipython",
    "version": 3
   },
   "file_extension": ".py",
   "mimetype": "text/x-python",
   "name": "python",
   "nbconvert_exporter": "python",
   "pygments_lexer": "ipython3",
   "version": "3.7.3"
  }
 },
 "nbformat": 4,
 "nbformat_minor": 2
}
