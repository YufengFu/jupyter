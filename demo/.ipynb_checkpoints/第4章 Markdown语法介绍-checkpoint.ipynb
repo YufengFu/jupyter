{
 "cells": [
  {
   "cell_type": "markdown",
   "metadata": {},
   "source": [
    "# 4.1Markdown基本语法介绍"
   ]
  },
  {
   "cell_type": "markdown",
   "metadata": {},
   "source": [
    "## 4.1.1标题"
   ]
  },
  {
   "cell_type": "markdown",
   "metadata": {},
   "source": [
    "# 一级标题\n",
    "## 二级标题\n",
    "### 三级标题\n",
    "#### 四级标题\n",
    "##### 五级标题\n",
    "###### 六级标题"
   ]
  },
  {
   "cell_type": "markdown",
   "metadata": {},
   "source": [
    "# 一级标题 #\n",
    "## 二级标题 ##\n",
    "### 三级标题 ###\n",
    "#### 四级标题 ####\n",
    "##### 五级标题 #####\n",
    "###### 六级标题 ######"
   ]
  },
  {
   "cell_type": "markdown",
   "metadata": {},
   "source": [
    "一级标题\n",
    "==\n",
    "\n",
    "二级标题\n",
    "--"
   ]
  },
  {
   "cell_type": "markdown",
   "metadata": {},
   "source": [
    "## 4.1.2段落样式"
   ]
  },
  {
   "cell_type": "markdown",
   "metadata": {},
   "source": [
    "这里输入的是正文第一段，您可以直接在正文第一段的末尾加两个空格并且回车来表示第一段     \n",
    "然后您可以在这里输入正文的第二段，您还可以在正文的段尾加入空行来换行，此处加入空行\n",
    "\n",
    "这里是正文的第三段"
   ]
  },
  {
   "cell_type": "markdown",
   "metadata": {},
   "source": [
    "这里输入的是正文第一段，您可以直接在正文第一段的末尾加两个空格并且回车来表示第一段，若不加空格只回车，就不会分段。\n",
    "然后您可以在这里输入正文的第二段，您还可以在正文的段尾加入空行来换行，此处加入空行\n",
    "\n",
    "这是第三段"
   ]
  },
  {
   "cell_type": "raw",
   "metadata": {},
   "source": [
    "分隔线 "
   ]
  },
  {
   "cell_type": "markdown",
   "metadata": {},
   "source": [
    "第一种段落分隔线：三个及以上连续*\n",
    "***\n",
    "第二种段落分隔线：三个及以上*，中间隔一个空格\n",
    "* * *\n",
    "第三种段落分隔线：三个及以上-，中间隔一个空格\n",
    "- - -\n",
    "第四种段落分隔线：三个及以上_\n",
    "___\n",
    "第四种段落分隔线：三个及以上_,中间隔一个空格\n",
    "_ _ _"
   ]
  },
  {
   "cell_type": "raw",
   "metadata": {},
   "source": [
    "脚注"
   ]
  },
  {
   "cell_type": "markdown",
   "metadata": {},
   "source": [
    "生成一个脚注1[^1].\n",
    "[^1]: 这里是 **脚注** 的 *内容*."
   ]
  },
  {
   "cell_type": "markdown",
   "metadata": {},
   "source": [
    "## 4.1.3文字格式"
   ]
  },
  {
   "cell_type": "markdown",
   "metadata": {},
   "source": [
    "*这是斜体示例的写法一*\n",
    "_这是斜体示例的写法二_\n",
    "**这是粗体示例的写法一**\n",
    "__这是粗体示例的写法二__\n",
    "***这是粗斜体示例的写法一***\n",
    "___这是斜体示例的写法二___"
   ]
  },
  {
   "cell_type": "markdown",
   "metadata": {},
   "source": [
    "*这是斜体示例的写法一*   \n",
    "_这是斜体示例的写法二_   \n",
    "**这是粗体示例的写法一**   \n",
    "__这是粗体示例的写法二__   \n",
    "***这是粗斜体示例的写法一***   \n",
    "___这是斜体示例的写法二___   "
   ]
  },
  {
   "cell_type": "markdown",
   "metadata": {},
   "source": [
    "<u>这里示范下划线书写</u>   \n",
    "~~这里示范删除线~~"
   ]
  },
  {
   "cell_type": "markdown",
   "metadata": {},
   "source": [
    "## 4.1.4列表格式"
   ]
  },
  {
   "cell_type": "markdown",
   "metadata": {},
   "source": [
    "* 这是第一项\n",
    "* 这是第二项\n",
    "\n",
    "+ 这是第一项\n",
    "+ 这是第二项\n",
    "\n",
    "- 这是第一项\n",
    "- 这是第二项"
   ]
  },
  {
   "cell_type": "markdown",
   "metadata": {},
   "source": [
    "1. 这是第一项\n",
    "2. 这是第二项\n",
    "3. 这是第三项"
   ]
  },
  {
   "cell_type": "markdown",
   "metadata": {},
   "source": [
    "1. 这是第一项\n",
    "    - 这是第一项的二级子项目的第一个\n",
    "        * 这是三级子项目\n",
    "        * 这是三级子项目\n",
    "    - 这是第一项的二级子项目的第二个\n",
    "        * 这是三级子项目\n",
    "        * 这是三级子项目\n",
    "2. 这是第二项\n",
    "    + 这是第二项二级子项目的第一个\n",
    "        - 这是三级子项目\n",
    "        - 这是三级子项目\n",
    "    + 这是第二项二级子项目的第二个\n",
    "        + 这是三级子项目\n",
    "        + 这是三级子项目"
   ]
  },
  {
   "cell_type": "markdown",
   "metadata": {},
   "source": [
    "## 4.1.5区块格式"
   ]
  },
  {
   "cell_type": "markdown",
   "metadata": {},
   "source": [
    "> 这是一个区块的内容    \n",
    "> 使用这种格式可以突出显示一部分内容    \n",
    "> 将这部分文字显示为一个区块    "
   ]
  },
  {
   "cell_type": "markdown",
   "metadata": {},
   "source": [
    "> 区块格式的最外层\n",
    ">> 嵌套区块的第一层\n",
    ">>> 嵌套区块的第二层\n",
    ">>>> 嵌套区块的第三层"
   ]
  },
  {
   "cell_type": "markdown",
   "metadata": {},
   "source": [
    "> 这部分我们展示如何在区块中使用列表\n",
    "> 1. 这是第一项\n",
    ">     + 这是第一项的第一子项\n",
    ">     + 这是第一项的第二子项\n",
    "> 2. 这是第二项\n",
    ">     - 这是第二项的第一子项\n",
    ">     - 这是第二项的第二子项"
   ]
  },
  {
   "cell_type": "markdown",
   "metadata": {},
   "source": [
    "**这部分我们展示如何在列表中使用区块**\n",
    "* 这是第一项\n",
    "    > 这是第一项中的区块\n",
    "    > 您可以在列表中使用区块\n",
    "* 这是第二项\n",
    "    > 在使用不同的格式嵌套中    \n",
    "    > 一定要记住空格的使用，缺少空格将影响格式的正确显示"
   ]
  },
  {
   "cell_type": "markdown",
   "metadata": {},
   "source": [
    "## 4.1.5代码格式"
   ]
  },
  {
   "cell_type": "markdown",
   "metadata": {},
   "source": [
    "Markdown也支持文档中加入代码格式的文本\n",
    "例如，我们在文档中讲解如何使用Python中的`print()`函数"
   ]
  },
  {
   "cell_type": "markdown",
   "metadata": {},
   "source": [
    "```python\n",
    "print('hello world')\n",
    "print('在此格式下您可以输入多行代码')\n",
    "```"
   ]
  },
  {
   "cell_type": "markdown",
   "metadata": {},
   "source": [
    "\n",
    "    print('print前面输入了四个空格')\n",
    "    "
   ]
  },
  {
   "cell_type": "markdown",
   "metadata": {},
   "source": [
    "## 4.1.6链接格式"
   ]
  },
  {
   "cell_type": "markdown",
   "metadata": {},
   "source": [
    "在这里您可以学习如何插入链接，比如您插入Python官网的链接[python官网](https://www.python.org/)"
   ]
  },
  {
   "cell_type": "markdown",
   "metadata": {},
   "source": [
    "在这里您可以学习如何插入链接，比如您插入Python官网的链接<https://www.python.org/>"
   ]
  },
  {
   "cell_type": "markdown",
   "metadata": {},
   "source": [
    "网址变量1：[jupyter官网][1]     \n",
    "网址变量jupyter：[jupyter官网][jupyter]        \n",
    "\n",
    "[1]: https://jupyter.org/\n",
    "[jupyter]:https://jupyter.org/"
   ]
  },
  {
   "cell_type": "markdown",
   "metadata": {},
   "source": [
    "## 4.1.7表格格式"
   ]
  },
  {
   "cell_type": "markdown",
   "metadata": {},
   "source": [
    "| 姓名 | 专业 | 年级 |\n",
    "|---  | ---  | --- |\n",
    "|张三  |金融学| 大三 |\n",
    "|李四  |经济学| 研一 |"
   ]
  },
  {
   "cell_type": "markdown",
   "metadata": {},
   "source": [
    "| 右对齐   | 左对齐  |  居中对齐 |\n",
    "| :----- | ----:   | :----: |\n",
    "| 张三   | 金融学   |  大三  |\n",
    "| 李四   | 经济学   |  研一  |"
   ]
  },
  {
   "cell_type": "markdown",
   "metadata": {},
   "source": [
    "## 4.1.8图片格式"
   ]
  },
  {
   "cell_type": "markdown",
   "metadata": {},
   "source": [
    "![jupyter图标](./picture/jupyter.png)"
   ]
  },
  {
   "cell_type": "markdown",
   "metadata": {},
   "source": [
    "这里插入Jupyter图标，并用1作为网址变量，真正的地址放在文章结尾 [Jupyter][1].\n",
    "\n",
    "[1]: https://jupyter.org/assets/main-logo.svg"
   ]
  },
  {
   "cell_type": "markdown",
   "metadata": {},
   "source": [
    "# 4.2高级技巧"
   ]
  },
  {
   "cell_type": "markdown",
   "metadata": {},
   "source": [
    "## 4.2.1HTML元素"
   ]
  },
  {
   "cell_type": "markdown",
   "metadata": {},
   "source": [
    "演示HTML标签的使用此处使用换行<br />演示文字标记，标记<mark>jupyter金融实践</mark><br />演示删除线<s>文字上有删除线</s><br />演示下划线<u>文字有下划线</u><br />演示文字<big>变大</big><small>变小</small><b>加粗</b><i>斜体</i><br />演示<em>文字强调各式</em><br />演示文字<sup>上标</sup>文字<sub>下标</sub><br />演示<center>文字居中</center><br />演示键盘格式文本<kbd>Ctrl</kbd>"
   ]
  },
  {
   "cell_type": "markdown",
   "metadata": {},
   "source": [
    "<img src=\"./picture/jupyter.png\" \n",
    "      width=\"300\"  \n",
    "      height=\"300\" \n",
    "      title=\"这是jupyter的logo\" \n",
    "      alt=\"这是jupyter的logo\" \n",
    "/>"
   ]
  },
  {
   "cell_type": "markdown",
   "metadata": {},
   "source": [
    "## 4.2.2转义"
   ]
  },
  {
   "cell_type": "markdown",
   "metadata": {},
   "source": [
    "*这里的星号表示文字斜体*     \n",
    "\\*这里的星号打印为星号\\*     \n",
    "**这里的双星号表示文字加粗**    \n",
    "\\*\\*这里的星号打印为两个星号\\*\\*"
   ]
  },
  {
   "cell_type": "markdown",
   "metadata": {},
   "source": [
    "## 4.2.3公式"
   ]
  },
  {
   "cell_type": "markdown",
   "metadata": {},
   "source": [
    "$f(x)$     \n",
    "$x_n$         \n",
    "$y^n$    \n",
    "$\\alpha$     \n"
   ]
  },
  {
   "cell_type": "markdown",
   "metadata": {},
   "source": [
    "$$ \n",
    "f(x)=x_n+y^n\\alpha\\beta\n",
    "$$"
   ]
  },
  {
   "cell_type": "markdown",
   "metadata": {},
   "source": [
    "\\begin{equation}\\label{eqn:1}\n",
    "\\begin{split}\n",
    "\\min_{\\substack{X}} loss(X)+\\alpha R(X),\n",
    "\\end{split}\n",
    "\\end{equation}\n",
    "\n",
    "\\begin{equation}\n",
    "\\begin{split}\n",
    "&\\min_{\\substack{\\beta}} \\|\\beta\\|_0 \\\\ \n",
    "&s.t. X \\beta = y \\label{eq2}.\n",
    "\\end{split}\n",
    "\\end{equation}"
   ]
  },
  {
   "cell_type": "markdown",
   "metadata": {},
   "source": [
    "\\begin{equation}   \n",
    "\\sum_{\\substack{k_0,k_1,\\dots>0 \\\\ k_0+k_1+\\dots=n}}\n",
    "\\end{equation}"
   ]
  },
  {
   "cell_type": "markdown",
   "metadata": {},
   "source": [
    "\\begin{equation}\n",
    "\\forall\n",
    "\\to\n",
    "\\in\n",
    "\\Rightarrow\n",
    "\\Leftarrow\n",
    "\\infty\n",
    "\\sum_{i=1}^{n}\n",
    "\\end{equation}"
   ]
  },
  {
   "cell_type": "markdown",
   "metadata": {},
   "source": [
    "$$\n",
    "\\int_{1}^{10}\n",
    "\\int_{a}^{b}\n",
    "\\leqslant\n",
    "$$"
   ]
  },
  {
   "cell_type": "code",
   "execution_count": null,
   "metadata": {},
   "outputs": [],
   "source": []
  }
 ],
 "metadata": {
  "kernelspec": {
   "display_name": "Python 3",
   "language": "python",
   "name": "python3"
  },
  "language_info": {
   "codemirror_mode": {
    "name": "ipython",
    "version": 3
   },
   "file_extension": ".py",
   "mimetype": "text/x-python",
   "name": "python",
   "nbconvert_exporter": "python",
   "pygments_lexer": "ipython3",
   "version": "3.7.3"
  }
 },
 "nbformat": 4,
 "nbformat_minor": 2
}
