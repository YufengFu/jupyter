{
 "cells": [
  {
   "cell_type": "code",
   "execution_count": 18,
   "metadata": {},
   "outputs": [],
   "source": [
    "import pandas as pd\n",
    "import numpy as np\n",
    "import matplotlib.pyplot as plt\n",
    "\n",
    "from sklearn.cluster import KMeans\n",
    "from sklearn.preprocessing import StandardScaler, normalize\n",
    "from sklearn.decomposition import PCA\n"
   ]
  },
  {
   "cell_type": "markdown",
   "metadata": {},
   "source": [
    "# 13.1场景介绍"
   ]
  },
  {
   "cell_type": "markdown",
   "metadata": {},
   "source": [
    "# 13.2数据准备"
   ]
  },
  {
   "cell_type": "code",
   "execution_count": 19,
   "metadata": {},
   "outputs": [],
   "source": [
    "data=pd.read_csv(r\"./dataset/creditcardfraud.csv\")#默认第一行为行标题"
   ]
  },
  {
   "cell_type": "code",
   "execution_count": 20,
   "metadata": {},
   "outputs": [
    {
     "data": {
      "text/plain": [
       "(284807, 31)"
      ]
     },
     "execution_count": 20,
     "metadata": {},
     "output_type": "execute_result"
    }
   ],
   "source": [
    "data.shape"
   ]
  },
  {
   "cell_type": "code",
   "execution_count": 21,
   "metadata": {},
   "outputs": [
    {
     "data": {
      "text/plain": [
       "0    284315\n",
       "1       492\n",
       "Name: Class, dtype: int64"
      ]
     },
     "execution_count": 21,
     "metadata": {},
     "output_type": "execute_result"
    }
   ],
   "source": [
    "data[\"Class\"].value_counts()"
   ]
  },
  {
   "cell_type": "code",
   "execution_count": 22,
   "metadata": {},
   "outputs": [
    {
     "data": {
      "text/plain": [
       "(28481, 31)"
      ]
     },
     "execution_count": 22,
     "metadata": {},
     "output_type": "execute_result"
    }
   ],
   "source": [
    "# 设定随机数种子\n",
    "np.random.seed(seed=2020)\n",
    "# 读取数据\n",
    "data=pd.read_csv(r\"./dataset/creditcardfraud.csv\")\n",
    "# 采样\n",
    "sample=data.sample(frac=0.1)\n",
    "sample.shape"
   ]
  },
  {
   "cell_type": "code",
   "execution_count": 23,
   "metadata": {},
   "outputs": [
    {
     "data": {
      "text/html": [
       "<div>\n",
       "<style scoped>\n",
       "    .dataframe tbody tr th:only-of-type {\n",
       "        vertical-align: middle;\n",
       "    }\n",
       "\n",
       "    .dataframe tbody tr th {\n",
       "        vertical-align: top;\n",
       "    }\n",
       "\n",
       "    .dataframe thead th {\n",
       "        text-align: right;\n",
       "    }\n",
       "</style>\n",
       "<table border=\"1\" class=\"dataframe\">\n",
       "  <thead>\n",
       "    <tr style=\"text-align: right;\">\n",
       "      <th></th>\n",
       "      <th>Time</th>\n",
       "      <th>V1</th>\n",
       "      <th>V2</th>\n",
       "      <th>V3</th>\n",
       "      <th>V4</th>\n",
       "      <th>V5</th>\n",
       "      <th>V6</th>\n",
       "      <th>V7</th>\n",
       "      <th>V8</th>\n",
       "      <th>V9</th>\n",
       "      <th>...</th>\n",
       "      <th>V21</th>\n",
       "      <th>V22</th>\n",
       "      <th>V23</th>\n",
       "      <th>V24</th>\n",
       "      <th>V25</th>\n",
       "      <th>V26</th>\n",
       "      <th>V27</th>\n",
       "      <th>V28</th>\n",
       "      <th>Amount</th>\n",
       "      <th>Class</th>\n",
       "    </tr>\n",
       "  </thead>\n",
       "  <tbody>\n",
       "    <tr>\n",
       "      <th>211253</th>\n",
       "      <td>138331.0</td>\n",
       "      <td>-0.424849</td>\n",
       "      <td>1.440450</td>\n",
       "      <td>1.144727</td>\n",
       "      <td>2.770542</td>\n",
       "      <td>1.274736</td>\n",
       "      <td>-0.266094</td>\n",
       "      <td>1.160302</td>\n",
       "      <td>-0.151599</td>\n",
       "      <td>-1.942956</td>\n",
       "      <td>...</td>\n",
       "      <td>0.270038</td>\n",
       "      <td>0.812179</td>\n",
       "      <td>-0.253067</td>\n",
       "      <td>0.072351</td>\n",
       "      <td>-0.149161</td>\n",
       "      <td>0.011216</td>\n",
       "      <td>0.139467</td>\n",
       "      <td>0.183261</td>\n",
       "      <td>1.71</td>\n",
       "      <td>0</td>\n",
       "    </tr>\n",
       "    <tr>\n",
       "      <th>216519</th>\n",
       "      <td>140515.0</td>\n",
       "      <td>1.923825</td>\n",
       "      <td>-0.285707</td>\n",
       "      <td>-1.730333</td>\n",
       "      <td>-0.046817</td>\n",
       "      <td>1.372527</td>\n",
       "      <td>1.705817</td>\n",
       "      <td>-0.140174</td>\n",
       "      <td>0.363828</td>\n",
       "      <td>0.511349</td>\n",
       "      <td>...</td>\n",
       "      <td>-0.173432</td>\n",
       "      <td>-0.196649</td>\n",
       "      <td>0.340552</td>\n",
       "      <td>-1.285473</td>\n",
       "      <td>-0.372171</td>\n",
       "      <td>0.412211</td>\n",
       "      <td>-0.005250</td>\n",
       "      <td>-0.075931</td>\n",
       "      <td>10.60</td>\n",
       "      <td>0</td>\n",
       "    </tr>\n",
       "    <tr>\n",
       "      <th>280714</th>\n",
       "      <td>169705.0</td>\n",
       "      <td>1.928541</td>\n",
       "      <td>-0.338794</td>\n",
       "      <td>-0.773928</td>\n",
       "      <td>1.023823</td>\n",
       "      <td>0.027824</td>\n",
       "      <td>0.601129</td>\n",
       "      <td>-0.608708</td>\n",
       "      <td>0.282794</td>\n",
       "      <td>0.857511</td>\n",
       "      <td>...</td>\n",
       "      <td>0.156631</td>\n",
       "      <td>0.482619</td>\n",
       "      <td>0.086723</td>\n",
       "      <td>-0.016709</td>\n",
       "      <td>-0.023490</td>\n",
       "      <td>-0.589910</td>\n",
       "      <td>0.033751</td>\n",
       "      <td>-0.042676</td>\n",
       "      <td>25.00</td>\n",
       "      <td>0</td>\n",
       "    </tr>\n",
       "  </tbody>\n",
       "</table>\n",
       "<p>3 rows × 31 columns</p>\n",
       "</div>"
      ],
      "text/plain": [
       "            Time        V1        V2        V3        V4        V5        V6  \\\n",
       "211253  138331.0 -0.424849  1.440450  1.144727  2.770542  1.274736 -0.266094   \n",
       "216519  140515.0  1.923825 -0.285707 -1.730333 -0.046817  1.372527  1.705817   \n",
       "280714  169705.0  1.928541 -0.338794 -0.773928  1.023823  0.027824  0.601129   \n",
       "\n",
       "              V7        V8        V9  ...         V21       V22       V23  \\\n",
       "211253  1.160302 -0.151599 -1.942956  ...    0.270038  0.812179 -0.253067   \n",
       "216519 -0.140174  0.363828  0.511349  ...   -0.173432 -0.196649  0.340552   \n",
       "280714 -0.608708  0.282794  0.857511  ...    0.156631  0.482619  0.086723   \n",
       "\n",
       "             V24       V25       V26       V27       V28  Amount  Class  \n",
       "211253  0.072351 -0.149161  0.011216  0.139467  0.183261    1.71      0  \n",
       "216519 -1.285473 -0.372171  0.412211 -0.005250 -0.075931   10.60      0  \n",
       "280714 -0.016709 -0.023490 -0.589910  0.033751 -0.042676   25.00      0  \n",
       "\n",
       "[3 rows x 31 columns]"
      ]
     },
     "execution_count": 23,
     "metadata": {},
     "output_type": "execute_result"
    }
   ],
   "source": [
    "sample.head(3)"
   ]
  },
  {
   "cell_type": "code",
   "execution_count": 24,
   "metadata": {},
   "outputs": [
    {
     "data": {
      "text/plain": [
       "0    28432\n",
       "1       49\n",
       "Name: Class, dtype: int64"
      ]
     },
     "execution_count": 24,
     "metadata": {},
     "output_type": "execute_result"
    }
   ],
   "source": [
    "sample['Class'].value_counts()"
   ]
  },
  {
   "cell_type": "code",
   "execution_count": 25,
   "metadata": {
    "scrolled": true
   },
   "outputs": [
    {
     "data": {
      "text/html": [
       "<div>\n",
       "<style scoped>\n",
       "    .dataframe tbody tr th:only-of-type {\n",
       "        vertical-align: middle;\n",
       "    }\n",
       "\n",
       "    .dataframe tbody tr th {\n",
       "        vertical-align: top;\n",
       "    }\n",
       "\n",
       "    .dataframe thead th {\n",
       "        text-align: right;\n",
       "    }\n",
       "</style>\n",
       "<table border=\"1\" class=\"dataframe\">\n",
       "  <thead>\n",
       "    <tr style=\"text-align: right;\">\n",
       "      <th></th>\n",
       "      <th>Time</th>\n",
       "      <th>Amount</th>\n",
       "      <th>V1</th>\n",
       "      <th>V2</th>\n",
       "      <th>V3</th>\n",
       "    </tr>\n",
       "  </thead>\n",
       "  <tbody>\n",
       "    <tr>\n",
       "      <th>count</th>\n",
       "      <td>28481.000000</td>\n",
       "      <td>28481.000000</td>\n",
       "      <td>28481.000000</td>\n",
       "      <td>28481.000000</td>\n",
       "      <td>28481.000000</td>\n",
       "    </tr>\n",
       "    <tr>\n",
       "      <th>mean</th>\n",
       "      <td>95081.280749</td>\n",
       "      <td>87.202118</td>\n",
       "      <td>0.026534</td>\n",
       "      <td>0.011319</td>\n",
       "      <td>-0.007368</td>\n",
       "    </tr>\n",
       "    <tr>\n",
       "      <th>std</th>\n",
       "      <td>47483.822980</td>\n",
       "      <td>231.158456</td>\n",
       "      <td>1.919344</td>\n",
       "      <td>1.582511</td>\n",
       "      <td>1.493663</td>\n",
       "    </tr>\n",
       "    <tr>\n",
       "      <th>min</th>\n",
       "      <td>1.000000</td>\n",
       "      <td>0.000000</td>\n",
       "      <td>-35.698345</td>\n",
       "      <td>-40.978852</td>\n",
       "      <td>-29.468732</td>\n",
       "    </tr>\n",
       "    <tr>\n",
       "      <th>25%</th>\n",
       "      <td>54476.000000</td>\n",
       "      <td>5.850000</td>\n",
       "      <td>-0.894757</td>\n",
       "      <td>-0.606529</td>\n",
       "      <td>-0.897072</td>\n",
       "    </tr>\n",
       "    <tr>\n",
       "      <th>50%</th>\n",
       "      <td>85329.000000</td>\n",
       "      <td>22.470000</td>\n",
       "      <td>0.038758</td>\n",
       "      <td>0.070498</td>\n",
       "      <td>0.184776</td>\n",
       "    </tr>\n",
       "    <tr>\n",
       "      <th>75%</th>\n",
       "      <td>139690.000000</td>\n",
       "      <td>78.000000</td>\n",
       "      <td>1.322692</td>\n",
       "      <td>0.813802</td>\n",
       "      <td>1.025286</td>\n",
       "    </tr>\n",
       "    <tr>\n",
       "      <th>max</th>\n",
       "      <td>172784.000000</td>\n",
       "      <td>7712.430000</td>\n",
       "      <td>2.418802</td>\n",
       "      <td>15.876923</td>\n",
       "      <td>4.101716</td>\n",
       "    </tr>\n",
       "  </tbody>\n",
       "</table>\n",
       "</div>"
      ],
      "text/plain": [
       "                Time        Amount            V1            V2            V3\n",
       "count   28481.000000  28481.000000  28481.000000  28481.000000  28481.000000\n",
       "mean    95081.280749     87.202118      0.026534      0.011319     -0.007368\n",
       "std     47483.822980    231.158456      1.919344      1.582511      1.493663\n",
       "min         1.000000      0.000000    -35.698345    -40.978852    -29.468732\n",
       "25%     54476.000000      5.850000     -0.894757     -0.606529     -0.897072\n",
       "50%     85329.000000     22.470000      0.038758      0.070498      0.184776\n",
       "75%    139690.000000     78.000000      1.322692      0.813802      1.025286\n",
       "max    172784.000000   7712.430000      2.418802     15.876923      4.101716"
      ]
     },
     "execution_count": 25,
     "metadata": {},
     "output_type": "execute_result"
    }
   ],
   "source": [
    "sample[['Time','Amount','V1','V2','V3']].describe()"
   ]
  },
  {
   "cell_type": "code",
   "execution_count": 26,
   "metadata": {},
   "outputs": [
    {
     "data": {
      "text/plain": [
       "0.0"
      ]
     },
     "execution_count": 26,
     "metadata": {},
     "output_type": "execute_result"
    }
   ],
   "source": [
    "import math\n",
    "\n",
    "math.log(1)"
   ]
  },
  {
   "cell_type": "code",
   "execution_count": 27,
   "metadata": {},
   "outputs": [],
   "source": [
    "# 特征转换\n",
    "sample.Time = sample.Time.map(lambda x: divmod(x, 3600)[0])\n",
    "sample.Amount = sample.Amount.map(lambda x: math.log(x+1))"
   ]
  },
  {
   "cell_type": "code",
   "execution_count": 28,
   "metadata": {},
   "outputs": [
    {
     "data": {
      "text/html": [
       "<div>\n",
       "<style scoped>\n",
       "    .dataframe tbody tr th:only-of-type {\n",
       "        vertical-align: middle;\n",
       "    }\n",
       "\n",
       "    .dataframe tbody tr th {\n",
       "        vertical-align: top;\n",
       "    }\n",
       "\n",
       "    .dataframe thead th {\n",
       "        text-align: right;\n",
       "    }\n",
       "</style>\n",
       "<table border=\"1\" class=\"dataframe\">\n",
       "  <thead>\n",
       "    <tr style=\"text-align: right;\">\n",
       "      <th></th>\n",
       "      <th>Time</th>\n",
       "      <th>Amount</th>\n",
       "      <th>V1</th>\n",
       "      <th>V2</th>\n",
       "      <th>V3</th>\n",
       "    </tr>\n",
       "  </thead>\n",
       "  <tbody>\n",
       "    <tr>\n",
       "      <th>count</th>\n",
       "      <td>28481.000000</td>\n",
       "      <td>28481.000000</td>\n",
       "      <td>28481.000000</td>\n",
       "      <td>28481.000000</td>\n",
       "      <td>28481.000000</td>\n",
       "    </tr>\n",
       "    <tr>\n",
       "      <th>mean</th>\n",
       "      <td>25.920122</td>\n",
       "      <td>3.158847</td>\n",
       "      <td>0.026534</td>\n",
       "      <td>0.011319</td>\n",
       "      <td>-0.007368</td>\n",
       "    </tr>\n",
       "    <tr>\n",
       "      <th>std</th>\n",
       "      <td>13.181489</td>\n",
       "      <td>1.649913</td>\n",
       "      <td>1.919344</td>\n",
       "      <td>1.582511</td>\n",
       "      <td>1.493663</td>\n",
       "    </tr>\n",
       "    <tr>\n",
       "      <th>min</th>\n",
       "      <td>0.000000</td>\n",
       "      <td>0.000000</td>\n",
       "      <td>-35.698345</td>\n",
       "      <td>-40.978852</td>\n",
       "      <td>-29.468732</td>\n",
       "    </tr>\n",
       "    <tr>\n",
       "      <th>25%</th>\n",
       "      <td>15.000000</td>\n",
       "      <td>1.924249</td>\n",
       "      <td>-0.894757</td>\n",
       "      <td>-0.606529</td>\n",
       "      <td>-0.897072</td>\n",
       "    </tr>\n",
       "    <tr>\n",
       "      <th>50%</th>\n",
       "      <td>23.000000</td>\n",
       "      <td>3.155723</td>\n",
       "      <td>0.038758</td>\n",
       "      <td>0.070498</td>\n",
       "      <td>0.184776</td>\n",
       "    </tr>\n",
       "    <tr>\n",
       "      <th>75%</th>\n",
       "      <td>38.000000</td>\n",
       "      <td>4.369448</td>\n",
       "      <td>1.322692</td>\n",
       "      <td>0.813802</td>\n",
       "      <td>1.025286</td>\n",
       "    </tr>\n",
       "    <tr>\n",
       "      <th>max</th>\n",
       "      <td>47.000000</td>\n",
       "      <td>8.950718</td>\n",
       "      <td>2.418802</td>\n",
       "      <td>15.876923</td>\n",
       "      <td>4.101716</td>\n",
       "    </tr>\n",
       "  </tbody>\n",
       "</table>\n",
       "</div>"
      ],
      "text/plain": [
       "               Time        Amount            V1            V2            V3\n",
       "count  28481.000000  28481.000000  28481.000000  28481.000000  28481.000000\n",
       "mean      25.920122      3.158847      0.026534      0.011319     -0.007368\n",
       "std       13.181489      1.649913      1.919344      1.582511      1.493663\n",
       "min        0.000000      0.000000    -35.698345    -40.978852    -29.468732\n",
       "25%       15.000000      1.924249     -0.894757     -0.606529     -0.897072\n",
       "50%       23.000000      3.155723      0.038758      0.070498      0.184776\n",
       "75%       38.000000      4.369448      1.322692      0.813802      1.025286\n",
       "max       47.000000      8.950718      2.418802     15.876923      4.101716"
      ]
     },
     "execution_count": 28,
     "metadata": {},
     "output_type": "execute_result"
    }
   ],
   "source": [
    "sample[['Time','Amount','V1','V2','V3']].describe()"
   ]
  },
  {
   "cell_type": "markdown",
   "metadata": {},
   "source": [
    "数据正规化与标准化\n",
    "\n",
    "在整个知识发现的过程中，数据挖掘之前，数据预处理起着至关重要的作用。\n",
    "其中首要步骤就是数据的正规化处理。\n",
    "在处理不同单元和尺度参数时，这一步就显得非常重要。\n",
    "例如，一些数据挖掘技术适用欧氏距离，因此，所有的参数应该要用相同的单位才能进行比较。\n",
    "\n",
    "重新缩放数据通常有两种方法：正规化和标准化。\n",
    "正规化，即将所有的变量都归一化到[0,1]的尺度范围内。\n",
    "\n",
    "标准化，是在原数据的分布统计基础上转化为具有零均值和单位方差。\n",
    "\n",
    "这两种方法各有弊端。\n",
    "如果你的数据集是离散的，正规化数据将会使那些“正常”的数据间形成非常小的间隔。\n",
    "一般来说，大多数据集都是离散的。当使用标准化后的数据时，你假设你的数据是由高斯法（具有一定的均值和标准差）产生的。\n",
    "但这在实际情况中可能不会发生。\n",
    "\n",
    "对于正规化，特定场景下最大值最小值是变化的，另外，最大值与最小值非常容易受异常点影响，所以这种方法鲁棒性（产品稳定性）较差，只适合传统精确小数据场景。所以一般都不使用归一化\n",
    "\n",
    "而标准化在已有样本足够多的情况下比较稳定，适合现代嘈杂大数据场景。\n"
   ]
  },
  {
   "cell_type": "code",
   "execution_count": 29,
   "metadata": {},
   "outputs": [],
   "source": [
    "from sklearn.preprocessing import Normalizer\n",
    "# 解释变量\n",
    "x_cols=sample.columns.tolist()\n",
    "x_cols.remove('Class')\n",
    "# 正则化\n",
    "sample[x_cols]  = Normalizer().fit_transform(sample[x_cols])"
   ]
  },
  {
   "cell_type": "code",
   "execution_count": 30,
   "metadata": {},
   "outputs": [],
   "source": [
    "# from sklearn.preprocessing import StandardScaler\n",
    "# # 解释变量\n",
    "# x_cols=sample.columns.tolist()\n",
    "# x_cols.remove('Class')\n",
    "# # Z-score标准化\n",
    "# # sample[x_cols] = StandardScaler().fit_transform(sample[x_cols])"
   ]
  },
  {
   "cell_type": "code",
   "execution_count": 34,
   "metadata": {},
   "outputs": [
    {
     "data": {
      "text/html": [
       "<div>\n",
       "<style scoped>\n",
       "    .dataframe tbody tr th:only-of-type {\n",
       "        vertical-align: middle;\n",
       "    }\n",
       "\n",
       "    .dataframe tbody tr th {\n",
       "        vertical-align: top;\n",
       "    }\n",
       "\n",
       "    .dataframe thead th {\n",
       "        text-align: right;\n",
       "    }\n",
       "</style>\n",
       "<table border=\"1\" class=\"dataframe\">\n",
       "  <thead>\n",
       "    <tr style=\"text-align: right;\">\n",
       "      <th></th>\n",
       "      <th>Time</th>\n",
       "      <th>Amount</th>\n",
       "      <th>V1</th>\n",
       "      <th>V2</th>\n",
       "      <th>V3</th>\n",
       "    </tr>\n",
       "  </thead>\n",
       "  <tbody>\n",
       "    <tr>\n",
       "      <th>count</th>\n",
       "      <td>28481.000000</td>\n",
       "      <td>28481.000000</td>\n",
       "      <td>28481.000000</td>\n",
       "      <td>28481.000000</td>\n",
       "      <td>28481.000000</td>\n",
       "    </tr>\n",
       "    <tr>\n",
       "      <th>mean</th>\n",
       "      <td>0.920979</td>\n",
       "      <td>0.156588</td>\n",
       "      <td>-0.000484</td>\n",
       "      <td>0.003079</td>\n",
       "      <td>0.018668</td>\n",
       "    </tr>\n",
       "    <tr>\n",
       "      <th>std</th>\n",
       "      <td>0.164448</td>\n",
       "      <td>0.130943</td>\n",
       "      <td>0.087375</td>\n",
       "      <td>0.070786</td>\n",
       "      <td>0.076230</td>\n",
       "    </tr>\n",
       "    <tr>\n",
       "      <th>min</th>\n",
       "      <td>0.000000</td>\n",
       "      <td>0.000000</td>\n",
       "      <td>-0.670126</td>\n",
       "      <td>-0.659682</td>\n",
       "      <td>-0.498987</td>\n",
       "    </tr>\n",
       "    <tr>\n",
       "      <th>25%</th>\n",
       "      <td>0.932531</td>\n",
       "      <td>0.065060</td>\n",
       "      <td>-0.040352</td>\n",
       "      <td>-0.024045</td>\n",
       "      <td>-0.026987</td>\n",
       "    </tr>\n",
       "    <tr>\n",
       "      <th>50%</th>\n",
       "      <td>0.976246</td>\n",
       "      <td>0.116176</td>\n",
       "      <td>0.001098</td>\n",
       "      <td>0.002672</td>\n",
       "      <td>0.007419</td>\n",
       "    </tr>\n",
       "    <tr>\n",
       "      <th>75%</th>\n",
       "      <td>0.988923</td>\n",
       "      <td>0.211508</td>\n",
       "      <td>0.055643</td>\n",
       "      <td>0.030650</td>\n",
       "      <td>0.053578</td>\n",
       "    </tr>\n",
       "    <tr>\n",
       "      <th>max</th>\n",
       "      <td>0.998483</td>\n",
       "      <td>0.908550</td>\n",
       "      <td>0.457601</td>\n",
       "      <td>0.494900</td>\n",
       "      <td>0.613423</td>\n",
       "    </tr>\n",
       "  </tbody>\n",
       "</table>\n",
       "</div>"
      ],
      "text/plain": [
       "               Time        Amount            V1            V2            V3\n",
       "count  28481.000000  28481.000000  28481.000000  28481.000000  28481.000000\n",
       "mean       0.920979      0.156588     -0.000484      0.003079      0.018668\n",
       "std        0.164448      0.130943      0.087375      0.070786      0.076230\n",
       "min        0.000000      0.000000     -0.670126     -0.659682     -0.498987\n",
       "25%        0.932531      0.065060     -0.040352     -0.024045     -0.026987\n",
       "50%        0.976246      0.116176      0.001098      0.002672      0.007419\n",
       "75%        0.988923      0.211508      0.055643      0.030650      0.053578\n",
       "max        0.998483      0.908550      0.457601      0.494900      0.613423"
      ]
     },
     "execution_count": 34,
     "metadata": {},
     "output_type": "execute_result"
    }
   ],
   "source": [
    "sample[['Time','Amount','V1','V2','V3']].describe()"
   ]
  },
  {
   "cell_type": "markdown",
   "metadata": {},
   "source": [
    " # 13.3建模"
   ]
  },
  {
   "cell_type": "markdown",
   "metadata": {},
   "source": [
    "Elbow Criterion\n",
    "\n",
    "对于k-means的k，可通过Elbow Criterion确定k的大小：\n",
    "在下面的误差平方和图中，拐点（bend or elbow）的位置对应的x轴即k-means聚类给出的合适的类的个数。\n",
    "\n",
    "由下图可以看出，该方法给出合理的类别个数是3个或4个。"
   ]
  },
  {
   "cell_type": "code",
   "execution_count": 35,
   "metadata": {},
   "outputs": [
    {
     "data": {
      "image/png": "[encoded data removed]",
      "text/plain": [
       "<Figure size 432x288 with 1 Axes>"
      ]
     },
     "metadata": {
      "needs_background": "light"
     },
     "output_type": "display_data"
    }
   ],
   "source": [
    "# 通过Elbow Criterion确定K\n",
    "sse = {}\n",
    "for k in range(1, 10):\n",
    "    kmeans = KMeans(n_clusters=k, max_iter=1000).fit(sample[x_cols])\n",
    "    sse[k] = kmeans.inertia_\n",
    "# 画出组内的平方和和提取的聚类个数的对比\n",
    "plt.figure()\n",
    "plt.plot(list(sse.keys()), list(sse.values()))\n",
    "plt.xlabel(\"Number of cluster\")\n",
    "plt.ylabel(\"SSE\")\n",
    "plt.title('Elbow Criterion')\n",
    "plt.show()"
   ]
  },
  {
   "cell_type": "code",
   "execution_count": 36,
   "metadata": {},
   "outputs": [
    {
     "data": {
      "image/png": "[encoded data removed]",
      "text/plain": [
       "<Figure size 432x288 with 1 Axes>"
      ]
     },
     "metadata": {
      "needs_background": "light"
     },
     "output_type": "display_data"
    }
   ],
   "source": [
    "# 使用轮廓系数确定K\n",
    "from sklearn.metrics import silhouette_score\n",
    "silhouette_scores = [] \n",
    "for n_cluster in range(2, 10):\n",
    "    silhouette_scores.append( \n",
    "        silhouette_score(sample[x_cols], KMeans(n_clusters = n_cluster).fit_predict(sample[x_cols]))) \n",
    "    Ｋ\n",
    "# 画出结果，使用silhouette_score包中指标推荐的聚类个数\n",
    "k =list(range(2,10))\n",
    "plt.bar(k, silhouette_scores) \n",
    "plt.xlabel('Number of clusters', fontsize = 10) \n",
    "plt.ylabel('Silhouette Score', fontsize = 10) \n",
    "plt.title('Silhouette Coefficient')\n",
    "plt.show() "
   ]
  },
  {
   "cell_type": "code",
   "execution_count": 37,
   "metadata": {},
   "outputs": [
    {
     "data": {
      "text/plain": [
       "KMeans(algorithm='auto', copy_x=True, init='k-means++', max_iter=300,\n",
       "    n_clusters=2, n_init=10, n_jobs=1, precompute_distances='auto',\n",
       "    random_state=None, tol=0.0001, verbose=0)"
      ]
     },
     "execution_count": 37,
     "metadata": {},
     "output_type": "execute_result"
    }
   ],
   "source": []
  },
  {
   "cell_type": "code",
   "execution_count": 40,
   "metadata": {},
   "outputs": [
    {
     "data": {
      "image/png": "[encoded data removed]",
      "text/plain": [
       "<Figure size 432x288 with 1 Axes>"
      ]
     },
     "metadata": {
      "needs_background": "light"
     },
     "output_type": "display_data"
    }
   ],
   "source": [
    "from sklearn.cluster import KMeans\n",
    "# K-means训练\n",
    "kmeans = KMeans(n_clusters=2)\n",
    "kmeans.fit(sample[x_cols])\n",
    "\n",
    "# 聚类效果可视化\n",
    "plt.scatter(sample['Time'], sample['Amount'],  \n",
    "           c = KMeans(n_clusters = 2).fit_predict(sample[x_cols]), cmap =plt.cm.winter) \n",
    "plt.show() "
   ]
  },
  {
   "cell_type": "code",
   "execution_count": 42,
   "metadata": {},
   "outputs": [
    {
     "ename": "ValueError",
     "evalue": "Incorrect number of features. Got 2 features, expected 30",
     "output_type": "error",
     "traceback": [
      "\u001b[0;31m---------------------------------------------------------------------------\u001b[0m",
      "\u001b[0;31mValueError\u001b[0m                                Traceback (most recent call last)",
      "\u001b[0;32m<ipython-input-42-ada69dcd21ab>\u001b[0m in \u001b[0;36m<module>\u001b[0;34m()\u001b[0m\n\u001b[1;32m     12\u001b[0m \u001b[0;31m# Z = kmeans.predict(np.c_[xx.ravel(), yy.ravel()])\u001b[0m\u001b[0;34m\u001b[0m\u001b[0;34m\u001b[0m\u001b[0m\n\u001b[1;32m     13\u001b[0m \u001b[0;34m\u001b[0m\u001b[0m\n\u001b[0;32m---> 14\u001b[0;31m \u001b[0mZ\u001b[0m \u001b[0;34m=\u001b[0m \u001b[0mkmeans\u001b[0m\u001b[0;34m.\u001b[0m\u001b[0mpredict\u001b[0m\u001b[0;34m(\u001b[0m\u001b[0mnp\u001b[0m\u001b[0;34m.\u001b[0m\u001b[0marray\u001b[0m\u001b[0;34m(\u001b[0m\u001b[0mlist\u001b[0m\u001b[0;34m(\u001b[0m\u001b[0mzip\u001b[0m\u001b[0;34m(\u001b[0m\u001b[0mxx\u001b[0m\u001b[0;34m.\u001b[0m\u001b[0mravel\u001b[0m\u001b[0;34m(\u001b[0m\u001b[0;34m)\u001b[0m\u001b[0;34m,\u001b[0m \u001b[0myy\u001b[0m\u001b[0;34m.\u001b[0m\u001b[0mravel\u001b[0m\u001b[0;34m(\u001b[0m\u001b[0;34m)\u001b[0m\u001b[0;34m)\u001b[0m\u001b[0;34m)\u001b[0m\u001b[0;34m)\u001b[0m\u001b[0;34m)\u001b[0m\u001b[0;34m\u001b[0m\u001b[0m\n\u001b[0m\u001b[1;32m     15\u001b[0m \u001b[0;34m\u001b[0m\u001b[0m\n\u001b[1;32m     16\u001b[0m \u001b[0;31m# Put the result into a color plot\u001b[0m\u001b[0;34m\u001b[0m\u001b[0;34m\u001b[0m\u001b[0m\n",
      "\u001b[0;32m/usr/local/install_package/anaconda3/lib/python3.7/site-packages/sklearn/cluster/k_means_.py\u001b[0m in \u001b[0;36mpredict\u001b[0;34m(self, X)\u001b[0m\n\u001b[1;32m    986\u001b[0m         \u001b[0mcheck_is_fitted\u001b[0m\u001b[0;34m(\u001b[0m\u001b[0mself\u001b[0m\u001b[0;34m,\u001b[0m \u001b[0;34m'cluster_centers_'\u001b[0m\u001b[0;34m)\u001b[0m\u001b[0;34m\u001b[0m\u001b[0m\n\u001b[1;32m    987\u001b[0m \u001b[0;34m\u001b[0m\u001b[0m\n\u001b[0;32m--> 988\u001b[0;31m         \u001b[0mX\u001b[0m \u001b[0;34m=\u001b[0m \u001b[0mself\u001b[0m\u001b[0;34m.\u001b[0m\u001b[0m_check_test_data\u001b[0m\u001b[0;34m(\u001b[0m\u001b[0mX\u001b[0m\u001b[0;34m)\u001b[0m\u001b[0;34m\u001b[0m\u001b[0m\n\u001b[0m\u001b[1;32m    989\u001b[0m         \u001b[0mx_squared_norms\u001b[0m \u001b[0;34m=\u001b[0m \u001b[0mrow_norms\u001b[0m\u001b[0;34m(\u001b[0m\u001b[0mX\u001b[0m\u001b[0;34m,\u001b[0m \u001b[0msquared\u001b[0m\u001b[0;34m=\u001b[0m\u001b[0;32mTrue\u001b[0m\u001b[0;34m)\u001b[0m\u001b[0;34m\u001b[0m\u001b[0m\n\u001b[1;32m    990\u001b[0m         \u001b[0;32mreturn\u001b[0m \u001b[0m_labels_inertia\u001b[0m\u001b[0;34m(\u001b[0m\u001b[0mX\u001b[0m\u001b[0;34m,\u001b[0m \u001b[0mx_squared_norms\u001b[0m\u001b[0;34m,\u001b[0m \u001b[0mself\u001b[0m\u001b[0;34m.\u001b[0m\u001b[0mcluster_centers_\u001b[0m\u001b[0;34m)\u001b[0m\u001b[0;34m[\u001b[0m\u001b[0;36m0\u001b[0m\u001b[0;34m]\u001b[0m\u001b[0;34m\u001b[0m\u001b[0m\n",
      "\u001b[0;32m/usr/local/install_package/anaconda3/lib/python3.7/site-packages/sklearn/cluster/k_means_.py\u001b[0m in \u001b[0;36m_check_test_data\u001b[0;34m(self, X)\u001b[0m\n\u001b[1;32m    869\u001b[0m             raise ValueError(\"Incorrect number of features. \"\n\u001b[1;32m    870\u001b[0m                              \"Got %d features, expected %d\" % (\n\u001b[0;32m--> 871\u001b[0;31m                                  n_features, expected_n_features))\n\u001b[0m\u001b[1;32m    872\u001b[0m \u001b[0;34m\u001b[0m\u001b[0m\n\u001b[1;32m    873\u001b[0m         \u001b[0;32mreturn\u001b[0m \u001b[0mX\u001b[0m\u001b[0;34m\u001b[0m\u001b[0m\n",
      "\u001b[0;31mValueError\u001b[0m: Incorrect number of features. Got 2 features, expected 30"
     ]
    }
   ],
   "source": [
    "# # Step size of the mesh. Decrease to increase the quality of the VQ.\n",
    "# h = .01     # point in the mesh [x_min, x_max]x[y_min, y_max].\n",
    "\n",
    "# # Plot the decision boundary. For that, we will assign a color to each\n",
    "# x_min, x_max = sample['Time'].min() - 1, sample['Time'].max() + 1\n",
    "# y_min, y_max = sample['Amount'].min() - 1, sample['Amount'].max() + 1\n",
    "# xx, yy = np.meshgrid(np.arange(x_min, x_max, h), np.arange(y_min, y_max, h))\n",
    "# # Obtain labels for each point in mesh. Use last trained model.\n",
    "\n",
    "# # https://www.quora.com/Can-anybody-elaborate-the-use-of-c_-in-numpy\n",
    "# # https://www.geeksforgeeks.org/differences-flatten-ravel-numpy/\n",
    "# # Z = kmeans.predict(np.c_[xx.ravel(), yy.ravel()])\n",
    "\n",
    "# Z = kmeans.predict(np.array(list(zip(xx.ravel(), yy.ravel()))))\n",
    "\n",
    "# # Put the result into a color plot\n",
    "# Z = Z.reshape(xx.shape)   \n",
    "# plt.figure(1)\n",
    "# # https://stackoverflow.com/questions/16661790/difference-between-plt-close-and-plt-clf\n",
    "# plt.clf()\n",
    "# plt.imshow(Z, interpolation='nearest',\n",
    "#            extent=(xx.min(), xx.max(), yy.min(), yy.max()),\n",
    "#            cmap=plt.cm.winter,\n",
    "#            aspect='auto', origin='lower')\n",
    "\n",
    "# plt.plot(sample['Time'], sample['Amount'], 'k.', markersize=2)\n",
    "# # Plot the centroids as a white X\n",
    "# centroids = kmeans.cluster_centers_\n",
    "# plt.scatter(centroids[:, 0], centroids[:, 1],\n",
    "#             marker='o', s=10, linewidths=3,\n",
    "#             color='w', zorder=10)\n",
    "# plt.title('K-means clustering on the credit card fraud dataset (PCA-reduced data)\\n'\n",
    "#           'Centroids are marked with white circle')\n",
    "# plt.xlim(x_min, x_max)\n",
    "# plt.ylim(y_min, y_max)\n",
    "# plt.show()\n"
   ]
  },
  {
   "cell_type": "code",
   "execution_count": null,
   "metadata": {},
   "outputs": [],
   "source": [
    "聚类算法是机器学习算法中的一种无监督算法。那么在生活中我们大多数做项目的话其实数据集都是为标定的。我看到许多人有写到通过有label的样本，计算它的混淆矩阵。这不乏是一种办法，那么今天说的方法其实是一种内部方法，就是说通过聚类后的结果label来计算的一种评价指标。\n",
    "内部有效性指标呢设计的时候从三个方面来看聚类的有效性：\n",
    "\n",
    "度量各个聚类的分离程度，理论上，类分离程度越大，结果越好。\n",
    "度量每个类内的内在紧致性，紧致性越大，聚类效果越好。\n",
    "度量各个类表示的复杂度，在可行的类表示中选择简单的。\n",
    "\n",
    "轮廓系数（Silhouette Coefficient），是聚类效果好坏的一种评价方式。     \n",
    "\n",
    "轮廓系数的值是介于 [-1,1] ，越趋近于1代表内聚度和分离度都相对较优。"
   ]
  },
  {
   "cell_type": "markdown",
   "metadata": {},
   "source": [
    "#  13.4验证"
   ]
  },
  {
   "cell_type": "code",
   "execution_count": 61,
   "metadata": {},
   "outputs": [
    {
     "name": "stdout",
     "output_type": "stream",
     "text": [
      "实际标签分布： Counter({0: 28432, 1: 49})\n",
      "预测标签分布： Counter({1: 27020, 0: 1461})\n"
     ]
    }
   ],
   "source": [
    "from sklearn.metrics import classification_report\n",
    "Y_true=sample['Class'].values\n",
    "Y_predict= kmeans.fit_predict(sample[x_cols])\n",
    "# 统计标签\n",
    "from collections import Counter\n",
    "print('实际标签分布：',Counter(Y_true))\n",
    "print('预测标签分布：',Counter(Y_predict))"
   ]
  },
  {
   "cell_type": "code",
   "execution_count": 62,
   "metadata": {},
   "outputs": [],
   "source": [
    "Y_predict=np.where((Y_predict==0)|(Y_predict==1), Y_predict^1, Y_predict)"
   ]
  },
  {
   "cell_type": "code",
   "execution_count": 65,
   "metadata": {},
   "outputs": [
    {
     "name": "stdout",
     "output_type": "stream",
     "text": [
      "分类报告\n",
      "              precision    recall  f1-score   support\n",
      "\n",
      "          0       1.00      0.95      0.97     28432\n",
      "          1       0.01      0.27      0.02        49\n",
      "\n",
      "avg / total       1.00      0.95      0.97     28481\n",
      "\n",
      "混淆矩阵\n",
      " [[26984  1448]\n",
      " [   36    13]]\n"
     ]
    }
   ],
   "source": [
    "# 打印分类报告和混淆矩阵\n",
    "from sklearn.metrics import classification_report,confusion_matrix\n",
    "print('分类报告\\n',classification_report(Y_true, Y_predict))\n",
    "print('混淆矩阵\\n',confusion_matrix(Y_true, Y_predict))"
   ]
  },
  {
   "cell_type": "code",
   "execution_count": 57,
   "metadata": {},
   "outputs": [
    {
     "data": {
      "text/plain": [
       "array([[26984,  1448],\n",
       "       [   36,    13]])"
      ]
     },
     "execution_count": 57,
     "metadata": {},
     "output_type": "execute_result"
    }
   ],
   "source": [
    "from sklearn.metrics import confusion_matrix\n",
    "confusion_matrix(Y_true, Y_predict)\n"
   ]
  },
  {
   "cell_type": "code",
   "execution_count": null,
   "metadata": {},
   "outputs": [],
   "source": []
  },
  {
   "cell_type": "code",
   "execution_count": null,
   "metadata": {},
   "outputs": [],
   "source": [
    "def getOutlier(Y_,Z,bandwidth=None,alpha=0.2,dx=1,isPlot=True):\n",
    "    Y_=Y_.reshape(-1, 1)\n",
    "    Z=Z.reshape(-1, 1)\n",
    "    \n",
    "    Y_hat=np.zeros(Y.size)\n",
    "    for i in np.unique(Y_):\n",
    "        print(\"\\n第{}个蔟\".format(i))\n",
    "        where_1=np.where(Y_==i)\n",
    "        \n",
    "        x=Z[np.where(Y_==i)]\n",
    "        #print(x.size)\n",
    "        if x.size==0:\n",
    "            continue\n",
    "        elif x.size==1:\n",
    "            where = np.intersect1d(where_1, where_1) \n",
    "            Y_hat[where]=1\n",
    "            print(\"1/{}\".format(x.size))\n",
    "            continue\n",
    "        elif x.size==2:\n",
    "            if x[0]==x[1]:\n",
    "                where = np.intersect1d(where_1, where_1) \n",
    "                Y_hat[where]=1\n",
    "                print(\"2/{}\".format(x.size))\n",
    "                continue\n",
    "                \n",
    "            \n",
    "        Min=x.min()\n",
    "        Max=x.max()\n",
    "        #print(Min,Max)\n",
    "        x_start=2*Min-Max\n",
    "        x_start=min(x_start,0)\n",
    "        x_end=2*Max-Min\n",
    "        \n",
    "        \n",
    "        #print(dx)\n",
    "        \n",
    "        x_sample=np.arange(x_start,x_end,dx)\n",
    "        if x_sample.size<64:\n",
    "            dx_n=64\n",
    "            dx=(x_end-x_start)/(dx_n-1)\n",
    "            x_sample=np.linspace(x_start,x_end,dx_n)\n",
    "            \n",
    "        \n",
    "        if bandwidth is None:\n",
    "            ##最佳带宽选择\n",
    "            ##参考：Adrian W, Bowman Adelchi Azzalini\n",
    "            # - Applied Smoothing Techniques for Data Analysis_\n",
    "            # The Kernel Approach with S-Plus Illustrations (1997)\n",
    "            ##章节2.4.2 Normal optimal smoothing,中位数估计方差效果更好，\n",
    "            #与matlab的ksdensity一致\n",
    "            x_median=np.median(x)\n",
    "            new_median=np.median(np.abs(x-x_median))/0.6745\n",
    "            ##np.std(data,ddof=1)当ddof=1时计算无偏标准差，即除以n-1，为0时除以n\n",
    "            bandwidth=new_median*((4/(3*x.shape[0]))**0.2)\n",
    "        \n",
    "        \n",
    "        kde = KernelDensity(kernel='gaussian', bandwidth=0.75).fit(x.reshape(-1,1))\n",
    "        log_pdf= kde.score_samples(x_sample.reshape(-1,1))#返回的是点x对应概率的log值，要使用exp求指数还原。\n",
    "        pdf=np.exp(log_pdf)\n",
    "        if isPlot:\n",
    "            ##画概率密度图\n",
    "            plt.plot(x_sample,pdf)\n",
    "            plt.show()\n",
    "        ##CDF：累积概率密度\n",
    "        cdf=0\n",
    "        index=0\n",
    "        while cdf<=alpha:\n",
    "            cdf+=pdf[index]*dx\n",
    "            index+=1\n",
    "            if index>=pdf.size:\n",
    "                break\n",
    "        \n",
    "        if index<pdf.size:\n",
    "            threshold=x_sample[index]\n",
    "        else:\n",
    "            threshold=x_sample[-1]\n",
    "            \n",
    "\n",
    "#         index=0\n",
    "\n",
    "#         while cdf<=alpha:\n",
    "#             cdf+=pdf[index]*dx\n",
    "#             index+=1\n",
    "            \n",
    "#         print(pdf.size)\n",
    "#         for i in range(pdf.size):\n",
    "#             cdf+=pdf[i]*dx\n",
    "#             if cdf>=alpha:\n",
    "#                 threshold=x_sample[i]\n",
    "#                 break\n",
    "#         else:\n",
    "#             threshold=x_sample[i]\n",
    "            \n",
    "        \n",
    "#         threshold=x_sample[index]\n",
    "        \n",
    "    \n",
    "\n",
    "        \n",
    "        # 找出异常值\n",
    "        where_2=np.where(Z<=threshold) #下五分位数等同于\n",
    "        \n",
    "        where = np.intersect1d(where_1, where_2) \n",
    "\n",
    "        Y_hat[where]=1\n",
    "        print(\"bandwidth:{},alpha:{},threshold:{},{}/{}\".format(bandwidth,alpha,threshold,where.size,x.size))\n",
    "    \n",
    "    return Y_hat"
   ]
  },
  {
   "cell_type": "code",
   "execution_count": null,
   "metadata": {},
   "outputs": [],
   "source": [
    "Y_hat=getOutlier(Y_,Z,alpha=0.2,isPlot=False)"
   ]
  }
 ],
 "metadata": {
  "kernelspec": {
   "display_name": "Python 3",
   "language": "python",
   "name": "python3"
  },
  "language_info": {
   "codemirror_mode": {
    "name": "ipython",
    "version": 3
   },
   "file_extension": ".py",
   "mimetype": "text/x-python",
   "name": "python",
   "nbconvert_exporter": "python",
   "pygments_lexer": "ipython3",
   "version": "3.7.0"
  }
 },
 "nbformat": 4,
 "nbformat_minor": 2
}
